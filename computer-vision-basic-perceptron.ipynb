{
 "cells": [
  {
   "cell_type": "code",
   "execution_count": 1,
   "id": "38eac37d",
   "metadata": {},
   "outputs": [],
   "source": [
    "import torch\n",
    "import torch.nn as nn\n",
    "import torch.nn.functional as F"
   ]
  },
  {
   "cell_type": "code",
   "execution_count": 2,
   "id": "afddba3e",
   "metadata": {},
   "outputs": [],
   "source": [
    "from torch.utils.data import DataLoader\n",
    "from torchvision import datasets, transforms"
   ]
  },
  {
   "cell_type": "code",
   "execution_count": 5,
   "id": "b9b2f9dd",
   "metadata": {},
   "outputs": [
    {
     "name": "stderr",
     "output_type": "stream",
     "text": [
      "UsageError: Line magic function `%matplotlib.inline` not found.\n"
     ]
    }
   ],
   "source": [
    "import numpy as np\n",
    "import pandas as pd\n",
    "from sklearn.metrics import confusion_matrix\n",
    "import matplotlib.pyplot as plt\n",
    "%matplotlib.inline"
   ]
  },
  {
   "cell_type": "code",
   "execution_count": null,
   "id": "f1cedf13",
   "metadata": {},
   "outputs": [],
   "source": [
    "# load in image data\n",
    "# MNIST IMAGE -> Tensors"
   ]
  },
  {
   "cell_type": "code",
   "execution_count": 6,
   "id": "20fb8624",
   "metadata": {},
   "outputs": [],
   "source": [
    "transform = transforms.ToTensor()"
   ]
  },
  {
   "cell_type": "code",
   "execution_count": 7,
   "id": "0bdfae9d",
   "metadata": {},
   "outputs": [
    {
     "name": "stderr",
     "output_type": "stream",
     "text": [
      "14.0%"
     ]
    },
    {
     "name": "stdout",
     "output_type": "stream",
     "text": [
      "Downloading http://yann.lecun.com/exdb/mnist/train-images-idx3-ubyte.gz to ./MNIST/raw/train-images-idx3-ubyte.gz\n"
     ]
    },
    {
     "name": "stderr",
     "output_type": "stream",
     "text": [
      "100.1%"
     ]
    },
    {
     "name": "stdout",
     "output_type": "stream",
     "text": [
      "Extracting ./MNIST/raw/train-images-idx3-ubyte.gz to ./MNIST/raw\n"
     ]
    },
    {
     "name": "stderr",
     "output_type": "stream",
     "text": [
      "78.0%%"
     ]
    },
    {
     "name": "stdout",
     "output_type": "stream",
     "text": [
      "Downloading http://yann.lecun.com/exdb/mnist/train-labels-idx1-ubyte.gz to ./MNIST/raw/train-labels-idx1-ubyte.gz\n",
      "Extracting ./MNIST/raw/train-labels-idx1-ubyte.gz to ./MNIST/raw\n",
      "Downloading http://yann.lecun.com/exdb/mnist/t10k-images-idx3-ubyte.gz to ./MNIST/raw/t10k-images-idx3-ubyte.gz\n"
     ]
    },
    {
     "name": "stderr",
     "output_type": "stream",
     "text": [
      "180.4%"
     ]
    },
    {
     "name": "stdout",
     "output_type": "stream",
     "text": [
      "Extracting ./MNIST/raw/t10k-images-idx3-ubyte.gz to ./MNIST/raw\n",
      "Downloading http://yann.lecun.com/exdb/mnist/t10k-labels-idx1-ubyte.gz to ./MNIST/raw/t10k-labels-idx1-ubyte.gz\n",
      "Extracting ./MNIST/raw/t10k-labels-idx1-ubyte.gz to ./MNIST/raw\n",
      "Processing...\n",
      "Done!\n"
     ]
    }
   ],
   "source": [
    "train_data = datasets.MNIST(root=\"./\", train=True, download=True, transform=transform)"
   ]
  },
  {
   "cell_type": "code",
   "execution_count": 10,
   "id": "771694fc",
   "metadata": {},
   "outputs": [],
   "source": [
    "test_data = datasets.MNIST(root=\"./\", train=False, download=True, transform=transform)"
   ]
  },
  {
   "cell_type": "code",
   "execution_count": 11,
   "id": "6ddc45f4",
   "metadata": {},
   "outputs": [
    {
     "data": {
      "text/plain": [
       "Dataset MNIST\n",
       "    Number of datapoints: 60000\n",
       "    Root location: ./\n",
       "    Split: Train\n",
       "    StandardTransform\n",
       "Transform: ToTensor()"
      ]
     },
     "execution_count": 11,
     "metadata": {},
     "output_type": "execute_result"
    }
   ],
   "source": [
    "train_data"
   ]
  },
  {
   "cell_type": "code",
   "execution_count": 12,
   "id": "8930e311",
   "metadata": {},
   "outputs": [
    {
     "data": {
      "text/plain": [
       "Dataset MNIST\n",
       "    Number of datapoints: 10000\n",
       "    Root location: ./\n",
       "    Split: Test\n",
       "    StandardTransform\n",
       "Transform: ToTensor()"
      ]
     },
     "execution_count": 12,
     "metadata": {},
     "output_type": "execute_result"
    }
   ],
   "source": [
    "test_data"
   ]
  },
  {
   "cell_type": "code",
   "execution_count": 13,
   "id": "5ea50dcb",
   "metadata": {},
   "outputs": [
    {
     "data": {
      "text/plain": [
       "torchvision.datasets.mnist.MNIST"
      ]
     },
     "execution_count": 13,
     "metadata": {},
     "output_type": "execute_result"
    }
   ],
   "source": [
    "type(train_data)"
   ]
  },
  {
   "cell_type": "code",
   "execution_count": 15,
   "id": "01f40e96",
   "metadata": {},
   "outputs": [],
   "source": [
    "image, label = train_data[0]"
   ]
  },
  {
   "cell_type": "code",
   "execution_count": 17,
   "id": "02bdbcae",
   "metadata": {},
   "outputs": [
    {
     "data": {
      "text/plain": [
       "torch.Size([1, 28, 28])"
      ]
     },
     "execution_count": 17,
     "metadata": {},
     "output_type": "execute_result"
    }
   ],
   "source": [
    "image.shape"
   ]
  },
  {
   "cell_type": "code",
   "execution_count": 18,
   "id": "a9063b70",
   "metadata": {},
   "outputs": [
    {
     "data": {
      "text/plain": [
       "<matplotlib.image.AxesImage at 0x7f9ff8efa6d0>"
      ]
     },
     "execution_count": 18,
     "metadata": {},
     "output_type": "execute_result"
    },
    {
     "data": {
      "image/png": "[encoded data removed]",
      "text/plain": [
       "<Figure size 432x288 with 1 Axes>"
      ]
     },
     "metadata": {
      "needs_background": "light"
     },
     "output_type": "display_data"
    }
   ],
   "source": [
    "plt.imshow(image.reshape((28,28)), cmap='gist_yarg')"
   ]
  },
  {
   "cell_type": "code",
   "execution_count": 20,
   "id": "7aec0e67",
   "metadata": {},
   "outputs": [
    {
     "data": {
      "text/plain": [
       "<torch._C.Generator at 0x7fa0189cb630>"
      ]
     },
     "execution_count": 20,
     "metadata": {},
     "output_type": "execute_result"
    }
   ],
   "source": [
    "torch.manual_seed(101)"
   ]
  },
  {
   "cell_type": "code",
   "execution_count": 22,
   "id": "2090b8fe",
   "metadata": {},
   "outputs": [],
   "source": [
    "train_loader = DataLoader(train_data, batch_size=100, shuffle=True) \n",
    "#100 images fed into network at a time\n",
    "\n",
    "test_loader = DataLoader(test_data, batch_size=500, shuffle=False)"
   ]
  },
  {
   "cell_type": "code",
   "execution_count": 23,
   "id": "44273f99",
   "metadata": {},
   "outputs": [],
   "source": [
    "from torchvision.utils import make_grid"
   ]
  },
  {
   "cell_type": "code",
   "execution_count": 24,
   "id": "d58bfc33",
   "metadata": {},
   "outputs": [],
   "source": [
    "np.set_printoptions(formatter=dict(int=lambda x: f'{x:4}')) # FORMATTING"
   ]
  },
  {
   "cell_type": "code",
   "execution_count": 30,
   "id": "b758a470",
   "metadata": {},
   "outputs": [],
   "source": [
    "# Explore first batch"
   ]
  },
  {
   "cell_type": "code",
   "execution_count": 25,
   "id": "9b982997",
   "metadata": {},
   "outputs": [],
   "source": [
    "# FIRST BATCH\n",
    "for images, labels in train_loader:\n",
    "    break"
   ]
  },
  {
   "cell_type": "code",
   "execution_count": 28,
   "id": "e908a9d6",
   "metadata": {},
   "outputs": [
    {
     "data": {
      "text/plain": [
       "torch.Size([100, 1, 28, 28])"
      ]
     },
     "execution_count": 28,
     "metadata": {},
     "output_type": "execute_result"
    }
   ],
   "source": [
    "images.shape # 100 images of 1 colour channel in a 28x28 image"
   ]
  },
  {
   "cell_type": "code",
   "execution_count": 29,
   "id": "0ba0f6fa",
   "metadata": {},
   "outputs": [
    {
     "data": {
      "text/plain": [
       "torch.Size([100])"
      ]
     },
     "execution_count": 29,
     "metadata": {},
     "output_type": "execute_result"
    }
   ],
   "source": [
    "labels.shape"
   ]
  },
  {
   "cell_type": "code",
   "execution_count": 31,
   "id": "2282747f",
   "metadata": {},
   "outputs": [
    {
     "data": {
      "text/plain": [
       "tensor([0, 5, 7, 8, 6, 7, 9, 7, 1, 3, 8, 4, 4, 2, 2, 1, 3, 7, 1, 6, 3, 1, 0, 4,\n",
       "        6, 4, 6, 9, 1, 1, 4, 0, 1, 4, 1, 8, 9, 3, 2, 1, 0, 9, 3, 1, 1, 3, 0, 2,\n",
       "        1, 6, 7, 5, 5, 1, 3, 7, 4, 9, 2, 9, 9, 7, 0, 9, 8, 5, 2, 1, 8, 8, 6, 1,\n",
       "        7, 3, 9, 4, 8, 5, 3, 0, 4, 4, 7, 9, 3, 4, 2, 8, 8, 5, 3, 5, 6, 8, 1, 2,\n",
       "        7, 0, 6, 7])"
      ]
     },
     "execution_count": 31,
     "metadata": {},
     "output_type": "execute_result"
    }
   ],
   "source": [
    "labels"
   ]
  },
  {
   "cell_type": "code",
   "execution_count": 32,
   "id": "686336c8",
   "metadata": {},
   "outputs": [],
   "source": [
    "# Print first 12 images"
   ]
  },
  {
   "cell_type": "code",
   "execution_count": 33,
   "id": "e6f55ecf",
   "metadata": {},
   "outputs": [
    {
     "data": {
      "text/plain": [
       "<matplotlib.image.AxesImage at 0x7f9ff8fa0490>"
      ]
     },
     "execution_count": 33,
     "metadata": {},
     "output_type": "execute_result"
    },
    {
     "data": {
      "image/png": "[encoded data removed]",
      "text/plain": [
       "<Figure size 720x288 with 1 Axes>"
      ]
     },
     "metadata": {
      "needs_background": "light"
     },
     "output_type": "display_data"
    }
   ],
   "source": [
    "im = make_grid(images[:12], nrow=12)\n",
    "plt.figure(figsize=(10,4))\n",
    "plt.imshow(np.transpose(im.numpy(), (1,2,0)))"
   ]
  },
  {
   "cell_type": "markdown",
   "id": "9a180dd7",
   "metadata": {},
   "source": [
    "# Multi-layer perceptron model"
   ]
  },
  {
   "cell_type": "code",
   "execution_count": 38,
   "id": "455e5759",
   "metadata": {},
   "outputs": [],
   "source": [
    "class MultilayerPerceptron(nn.Module):\n",
    "    \n",
    "    def __init__(self, in_sz=784,out_sz=10,layers=[120,84]):\n",
    "        \n",
    "        super().__init__()\n",
    "        \n",
    "        self.fc1 = nn.Linear(in_sz, layers[0])\n",
    "        self.fc2 = nn.Linear(layers[0],layers[1])\n",
    "        self.fc3 = nn.Linear(layers[1],out_sz)\n",
    "        \n",
    "    def forward(self,X):\n",
    "        # fc = fully connected layer\n",
    "        X = F.relu(self.fc1(X))\n",
    "        X = F.relu(self.fc2(X))\n",
    "        X = self.fc3(X)\n",
    "        \n",
    "        return F.log_softmax(X,dim=1) # softmax for multi-class classification"
   ]
  },
  {
   "cell_type": "code",
   "execution_count": 39,
   "id": "ea9d0e7f",
   "metadata": {},
   "outputs": [
    {
     "data": {
      "text/plain": [
       "<torch._C.Generator at 0x7fa0189cb630>"
      ]
     },
     "execution_count": 39,
     "metadata": {},
     "output_type": "execute_result"
    }
   ],
   "source": [
    "torch.manual_seed(101)"
   ]
  },
  {
   "cell_type": "code",
   "execution_count": 40,
   "id": "b06d492e",
   "metadata": {},
   "outputs": [],
   "source": [
    "model = MultilayerPerceptron()"
   ]
  },
  {
   "cell_type": "code",
   "execution_count": 41,
   "id": "441034ff",
   "metadata": {},
   "outputs": [
    {
     "data": {
      "text/plain": [
       "MultilayerPerceptron(\n",
       "  (fc1): Linear(in_features=784, out_features=120, bias=True)\n",
       "  (fc2): Linear(in_features=120, out_features=84, bias=True)\n",
       "  (fc3): Linear(in_features=84, out_features=10, bias=True)\n",
       ")"
      ]
     },
     "execution_count": 41,
     "metadata": {},
     "output_type": "execute_result"
    }
   ],
   "source": [
    "model"
   ]
  },
  {
   "cell_type": "code",
   "execution_count": 43,
   "id": "a9099100",
   "metadata": {},
   "outputs": [
    {
     "name": "stdout",
     "output_type": "stream",
     "text": [
      "94080\n",
      "120\n",
      "10080\n",
      "84\n",
      "840\n",
      "10\n"
     ]
    }
   ],
   "source": [
    "# show total number of parameters in the model\n",
    "for param in model.parameters():\n",
    "    print(param.numel())\n",
    "    \n",
    "# 1. all connections from 784 to 120 (weights)\n",
    "# 2. 120 bias \n",
    "# 3. all connections from 120 neurons to 84 neurons\n",
    "# 4. 84 bias \n",
    "# 5. all connections from 84 neurons to 10 neurons\n",
    "# 6. 10 bias"
   ]
  },
  {
   "cell_type": "code",
   "execution_count": 44,
   "id": "2eb56059",
   "metadata": {},
   "outputs": [],
   "source": [
    "# total parameters: 105214 total parameters"
   ]
  },
  {
   "cell_type": "code",
   "execution_count": 45,
   "id": "81f9b403",
   "metadata": {},
   "outputs": [],
   "source": [
    "criterion = nn.CrossEntropyLoss()\n",
    "optimizer = torch.optim.Adam(model.parameters(), lr=0.001)"
   ]
  },
  {
   "cell_type": "code",
   "execution_count": 47,
   "id": "c39f8be3",
   "metadata": {},
   "outputs": [
    {
     "data": {
      "text/plain": [
       "torch.Size([100, 1, 28, 28])"
      ]
     },
     "execution_count": 47,
     "metadata": {},
     "output_type": "execute_result"
    }
   ],
   "source": [
    "images.shape # flatten into 100 images of 784 pixels ---> [100, 784]"
   ]
  },
  {
   "cell_type": "code",
   "execution_count": 50,
   "id": "ca0a6c35",
   "metadata": {},
   "outputs": [
    {
     "data": {
      "text/plain": [
       "torch.Size([100, 784])"
      ]
     },
     "execution_count": 50,
     "metadata": {},
     "output_type": "execute_result"
    }
   ],
   "source": [
    "images.view(100, -1).shape # view method with second parameter -1 causes flatten"
   ]
  },
  {
   "cell_type": "markdown",
   "id": "591d83b7",
   "metadata": {},
   "source": [
    "# Model training"
   ]
  },
  {
   "cell_type": "code",
   "execution_count": 55,
   "id": "8affcfbc",
   "metadata": {},
   "outputs": [
    {
     "name": "stdout",
     "output_type": "stream",
     "text": [
      "Epoch 0 batch200 loss:0.043936558067798615 accuracy: 97.55\n",
      "Epoch 0 batch400 loss:0.08064968883991241 accuracy: 97.5175\n",
      "Epoch 0 batch600 loss:0.04593101516366005 accuracy: 97.54166666666667\n",
      "Epoch 1 batch200 loss:0.15204916894435883 accuracy: 97.905\n",
      "Epoch 1 batch400 loss:0.11123093962669373 accuracy: 97.9825\n",
      "Epoch 1 batch600 loss:0.13759036362171173 accuracy: 97.995\n",
      "Epoch 2 batch200 loss:0.05522346496582031 accuracy: 98.37\n",
      "Epoch 2 batch400 loss:0.047315653413534164 accuracy: 98.3925\n",
      "Epoch 2 batch600 loss:0.0643383339047432 accuracy: 98.39166666666667\n",
      "Epoch 3 batch200 loss:0.002775677479803562 accuracy: 98.895\n",
      "Epoch 3 batch400 loss:0.05013709515333176 accuracy: 98.8\n",
      "Epoch 3 batch600 loss:0.0702788233757019 accuracy: 98.68166666666667\n",
      "Epoch 4 batch200 loss:0.04630101099610329 accuracy: 99.01\n",
      "Epoch 4 batch400 loss:0.050923045724630356 accuracy: 98.9825\n",
      "Epoch 4 batch600 loss:0.05717475339770317 accuracy: 98.93833333333333\n",
      "Epoch 5 batch200 loss:0.016825806349515915 accuracy: 99.24\n",
      "Epoch 5 batch400 loss:0.04774931073188782 accuracy: 99.125\n",
      "Epoch 5 batch600 loss:0.0028759220149368048 accuracy: 99.07666666666667\n",
      "Epoch 6 batch200 loss:0.021978789940476418 accuracy: 99.295\n",
      "Epoch 6 batch400 loss:0.0008965346496552229 accuracy: 99.2975\n",
      "Epoch 6 batch600 loss:0.010873425751924515 accuracy: 99.23833333333333\n",
      "Epoch 7 batch200 loss:0.0046585663221776485 accuracy: 99.38\n",
      "Epoch 7 batch400 loss:0.006992663722485304 accuracy: 99.4025\n",
      "Epoch 7 batch600 loss:0.06887878477573395 accuracy: 99.31333333333333\n",
      "Epoch 8 batch200 loss:0.06255947798490524 accuracy: 99.52\n",
      "Epoch 8 batch400 loss:0.003841120982542634 accuracy: 99.505\n",
      "Epoch 8 batch600 loss:0.01643497496843338 accuracy: 99.46\n",
      "Epoch 9 batch200 loss:0.008989048190414906 accuracy: 99.51\n",
      "Epoch 9 batch400 loss:0.01808621734380722 accuracy: 99.5175\n",
      "Epoch 9 batch600 loss:0.07036691904067993 accuracy: 99.50666666666666\n",
      "Duration: 1.0445040146509805 minutes\n"
     ]
    }
   ],
   "source": [
    "import time \n",
    "start_time = time.time()\n",
    "\n",
    "# set up number of iterations of ANN\n",
    "epochs = 10\n",
    "\n",
    "# Metrics to track\n",
    "train_losses = []\n",
    "test_losses = []\n",
    "train_correct = []\n",
    "test_correct = []\n",
    "\n",
    "# train model\n",
    "for i in range(epochs):\n",
    "    trn_corr = 0 # correctly predicted during training\n",
    "    tst_corr = 0 # correctly predicted during testing\n",
    "    \n",
    "    # b for \"batch\"\n",
    "    for b, (X_train, y_train) in enumerate(train_loader):\n",
    "        b+=1 \n",
    "        \n",
    "        # 10 neurons\n",
    "        # [0.1,0.0,....0.8]\n",
    "        y_pred = model(X_train.view(100, -1))\n",
    "        loss = criterion(y_pred,y_train)\n",
    "        \n",
    "        predicted = torch.max(y_pred.data,1)[1]\n",
    "        batch_corr = (predicted == y_train).sum()\n",
    "        \n",
    "        trn_corr += batch_corr\n",
    "        \n",
    "        optimizer.zero_grad()\n",
    "        loss.backward()\n",
    "        optimizer.step()\n",
    "        \n",
    "        if b%200 == 0:\n",
    "            acc = trn_corr.item()*100/(100*b)\n",
    "            print(f'Epoch {i} batch{b} loss:{loss.item()} accuracy: {acc}')\n",
    "        \n",
    "    \n",
    "    train_losses.append(loss)\n",
    "    train_correct.append(trn_corr)\n",
    "    \n",
    "    # no_grad stops updating the weights and biases\n",
    "    with torch.no_grad():\n",
    "        \n",
    "        for b, (X_test, y_test) in enumerate(test_loader):\n",
    "            y_val = model(X_test.view(500, -1))\n",
    "            \n",
    "            predicted = torch.max(y_val.data,1)[1]\n",
    "            tst_corr += (predicted==y_test).sum()\n",
    "    \n",
    "    loss = criterion(y_val, y_test)\n",
    "    test_losses.append(loss)\n",
    "    test_correct.append(tst_corr)\n",
    "\n",
    "\n",
    "total_time = time.time() - start_time\n",
    "print(f'Duration: {total_time/60} minutes')"
   ]
  },
  {
   "cell_type": "markdown",
   "id": "555c10bb",
   "metadata": {},
   "source": [
    "# Evaluation"
   ]
  },
  {
   "cell_type": "code",
   "execution_count": 62,
   "id": "5a8f5243",
   "metadata": {},
   "outputs": [],
   "source": [
    "train_losses = list(map(lambda x: x.item(),train_losses))"
   ]
  },
  {
   "cell_type": "code",
   "execution_count": 63,
   "id": "26c599e1",
   "metadata": {},
   "outputs": [],
   "source": [
    "test_losses = list(map(lambda x: x.item(),test_losses))"
   ]
  },
  {
   "cell_type": "code",
   "execution_count": 64,
   "id": "1ab5ad02",
   "metadata": {},
   "outputs": [
    {
     "data": {
      "text/plain": [
       "<matplotlib.legend.Legend at 0x7fa039d92b10>"
      ]
     },
     "execution_count": 64,
     "metadata": {},
     "output_type": "execute_result"
    },
    {
     "data": {
      "image/png": "[encoded data removed]",
      "text/plain": [
       "<Figure size 432x288 with 1 Axes>"
      ]
     },
     "metadata": {
      "needs_background": "light"
     },
     "output_type": "display_data"
    }
   ],
   "source": [
    "plt.plot(train_losses, label='Training Loss')\n",
    "plt.plot(test_losses, label='Test/Validation Loss')\n",
    "plt.legend()"
   ]
  },
  {
   "cell_type": "code",
   "execution_count": null,
   "id": "10e0fdce",
   "metadata": {},
   "outputs": [],
   "source": [
    "train_correct[]"
   ]
  },
  {
   "cell_type": "code",
   "execution_count": 66,
   "id": "40ba7533",
   "metadata": {},
   "outputs": [],
   "source": [
    "train_correct = list(map(lambda x: x.item(),train_correct))"
   ]
  },
  {
   "cell_type": "code",
   "execution_count": 67,
   "id": "774ed0de",
   "metadata": {},
   "outputs": [],
   "source": [
    "test_correct = list(map(lambda x: x.item(),test_correct))"
   ]
  },
  {
   "cell_type": "code",
   "execution_count": 69,
   "id": "ce594d19",
   "metadata": {},
   "outputs": [],
   "source": [
    "train_acc = [t/600 for t in train_correct] # divide by batch size\n",
    "test_acc = [t/100 for t in test_correct] # divide by batch size"
   ]
  },
  {
   "cell_type": "code",
   "execution_count": 70,
   "id": "ca07b9bd",
   "metadata": {},
   "outputs": [
    {
     "data": {
      "text/plain": [
       "<matplotlib.legend.Legend at 0x7fa039dd5d90>"
      ]
     },
     "execution_count": 70,
     "metadata": {},
     "output_type": "execute_result"
    },
    {
     "data": {
      "image/png": "[encoded data removed]",
      "text/plain": [
       "<Figure size 432x288 with 1 Axes>"
      ]
     },
     "metadata": {
      "needs_background": "light"
     },
     "output_type": "display_data"
    }
   ],
   "source": [
    "plt.plot(train_acc, label='Training Acc')\n",
    "plt.plot(test_acc, label='Test/Validation Acc')\n",
    "plt.legend()"
   ]
  }
 ],
 "metadata": {
  "kernelspec": {
   "display_name": "Python 3 (ipykernel)",
   "language": "python",
   "name": "python3"
  },
  "language_info": {
   "codemirror_mode": {
    "name": "ipython",
    "version": 3
   },
   "file_extension": ".py",
   "mimetype": "text/x-python",
   "name": "python",
   "nbconvert_exporter": "python",
   "pygments_lexer": "ipython3",
   "version": "3.7.11"
  }
 },
 "nbformat": 4,
 "nbformat_minor": 5
}
