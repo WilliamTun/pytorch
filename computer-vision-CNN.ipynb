{
 "cells": [
  {
   "cell_type": "code",
   "execution_count": 1,
   "id": "d2a34786",
   "metadata": {},
   "outputs": [
    {
     "name": "stderr",
     "output_type": "stream",
     "text": [
      "UsageError: Line magic function `%matplotlib.inline` not found.\n"
     ]
    }
   ],
   "source": [
    "import torch\n",
    "import torch.nn as nn\n",
    "import torch.nn.functional as F\n",
    "from torch.utils.data import DataLoader\n",
    "from torchvision import datasets, transforms\n",
    "from torchvision.utils import make_grid\n",
    "\n",
    "import numpy as np\n",
    "import pandas as pd\n",
    "from sklearn.metrics import confusion_matrix\n",
    "import matplotlib.pyplot as plt\n",
    "%matplotlib.inline"
   ]
  },
  {
   "cell_type": "code",
   "execution_count": 2,
   "id": "cf7330e1",
   "metadata": {},
   "outputs": [],
   "source": [
    "transform = transforms.ToTensor()"
   ]
  },
  {
   "cell_type": "code",
   "execution_count": 3,
   "id": "dcfed650",
   "metadata": {},
   "outputs": [],
   "source": [
    "train_data = datasets.MNIST(root='./', train=True, download=True, transform = transform)"
   ]
  },
  {
   "cell_type": "code",
   "execution_count": 4,
   "id": "0a637be7",
   "metadata": {},
   "outputs": [],
   "source": [
    "test_data = datasets.MNIST(root='./', train=False, download=True, transform = transform)"
   ]
  },
  {
   "cell_type": "code",
   "execution_count": 5,
   "id": "b122a620",
   "metadata": {},
   "outputs": [
    {
     "data": {
      "text/plain": [
       "Dataset MNIST\n",
       "    Number of datapoints: 60000\n",
       "    Root location: ./\n",
       "    Split: Train\n",
       "    StandardTransform\n",
       "Transform: ToTensor()"
      ]
     },
     "execution_count": 5,
     "metadata": {},
     "output_type": "execute_result"
    }
   ],
   "source": [
    "train_data"
   ]
  },
  {
   "cell_type": "code",
   "execution_count": 6,
   "id": "82a5ddcb",
   "metadata": {},
   "outputs": [],
   "source": [
    "train_loader = DataLoader(train_data, batch_size=10, shuffle=True)\n",
    "test_loader = DataLoader(test_data, batch_size=10, shuffle=False)"
   ]
  },
  {
   "cell_type": "markdown",
   "id": "e6d5a1d0",
   "metadata": {},
   "source": [
    "# Understanding Conv Layer"
   ]
  },
  {
   "cell_type": "code",
   "execution_count": 12,
   "id": "116fcda1",
   "metadata": {},
   "outputs": [],
   "source": [
    "# ?nn.Conv2d"
   ]
  },
  {
   "cell_type": "code",
   "execution_count": 13,
   "id": "8cc109dd",
   "metadata": {},
   "outputs": [],
   "source": [
    "conv1 = nn.Conv2d(in_channels=1,out_channels=6,kernel_size=3,stride=1) \n",
    "# 1 grayscale, 6 is the filter, 3 is size of kernel, step size is 1"
   ]
  },
  {
   "cell_type": "code",
   "execution_count": 8,
   "id": "82c9fe01",
   "metadata": {},
   "outputs": [],
   "source": [
    "# kernel_size 3 mean 3x3 kernel, kernel size of 4 means 4x4 kernel"
   ]
  },
  {
   "cell_type": "code",
   "execution_count": 14,
   "id": "c90f148b",
   "metadata": {},
   "outputs": [],
   "source": [
    "conv2 = nn.Conv2d(in_channels=6,out_channels=16,kernel_size=3,stride=1) \n",
    "# this conv layer will take results of the above AFTER it has been passed into a pooling layer\n",
    "# in_channels = 6 correspond to the previous out_channel of 6"
   ]
  },
  {
   "cell_type": "code",
   "execution_count": 15,
   "id": "52a1e8cb",
   "metadata": {},
   "outputs": [],
   "source": [
    "for i, (X_train, y_train) in enumerate(train_data):\n",
    "    break"
   ]
  },
  {
   "cell_type": "code",
   "execution_count": 18,
   "id": "2dd8e01b",
   "metadata": {},
   "outputs": [
    {
     "data": {
      "text/plain": [
       "torch.Size([1, 28, 28])"
      ]
     },
     "execution_count": 18,
     "metadata": {},
     "output_type": "execute_result"
    }
   ],
   "source": [
    "X_train.shape # --> 4D batch (batch of 1 image)"
   ]
  },
  {
   "cell_type": "code",
   "execution_count": 20,
   "id": "bfb25e3d",
   "metadata": {},
   "outputs": [],
   "source": [
    "x = X_train.view(1,1,28,28) # 1 image of 28 by 28"
   ]
  },
  {
   "cell_type": "code",
   "execution_count": 22,
   "id": "d62a19d1",
   "metadata": {},
   "outputs": [],
   "source": [
    "x = F.relu(conv1(x)) # first conv layer"
   ]
  },
  {
   "cell_type": "code",
   "execution_count": 23,
   "id": "4048989c",
   "metadata": {},
   "outputs": [
    {
     "data": {
      "text/plain": [
       "torch.Size([1, 6, 26, 26])"
      ]
     },
     "execution_count": 23,
     "metadata": {},
     "output_type": "execute_result"
    }
   ],
   "source": [
    "x.shape"
   ]
  },
  {
   "cell_type": "code",
   "execution_count": 24,
   "id": "10547913",
   "metadata": {},
   "outputs": [],
   "source": [
    "x = F.max_pool2d(x,2,2) # max pooling"
   ]
  },
  {
   "cell_type": "code",
   "execution_count": 25,
   "id": "e1cf599b",
   "metadata": {},
   "outputs": [
    {
     "data": {
      "text/plain": [
       "torch.Size([1, 6, 13, 13])"
      ]
     },
     "execution_count": 25,
     "metadata": {},
     "output_type": "execute_result"
    }
   ],
   "source": [
    "x.shape"
   ]
  },
  {
   "cell_type": "code",
   "execution_count": 26,
   "id": "84d910fc",
   "metadata": {},
   "outputs": [],
   "source": [
    "x = F.relu(conv2(x)) # second conv layer"
   ]
  },
  {
   "cell_type": "code",
   "execution_count": 27,
   "id": "01901bc2",
   "metadata": {},
   "outputs": [],
   "source": [
    "x = F.max_pool2d(x,2,2)"
   ]
  },
  {
   "cell_type": "code",
   "execution_count": 28,
   "id": "80d1a7cf",
   "metadata": {},
   "outputs": [
    {
     "data": {
      "text/plain": [
       "torch.Size([1, 16, 5, 5])"
      ]
     },
     "execution_count": 28,
     "metadata": {},
     "output_type": "execute_result"
    }
   ],
   "source": [
    "x.shape"
   ]
  },
  {
   "cell_type": "code",
   "execution_count": 29,
   "id": "2574f604",
   "metadata": {},
   "outputs": [
    {
     "data": {
      "text/plain": [
       "torch.Size([1, 400])"
      ]
     },
     "execution_count": 29,
     "metadata": {},
     "output_type": "execute_result"
    }
   ],
   "source": [
    "x.view(-1, 16*5*5).shape"
   ]
  },
  {
   "cell_type": "markdown",
   "id": "353da54c",
   "metadata": {},
   "source": [
    "# Convolutional Neural Network"
   ]
  },
  {
   "cell_type": "code",
   "execution_count": 15,
   "id": "4d1737e8",
   "metadata": {},
   "outputs": [],
   "source": [
    "class ConvolutionalNetwork(nn.Module):\n",
    "    def __init__(self):\n",
    "        super().__init__()\n",
    "        self.conv1 = nn.Conv2d(1, 6, 3, 1)\n",
    "        self.conv2 = nn.Conv2d(6, 16, 3, 1)\n",
    "        self.fc1 = nn.Linear(5*5*16, 120)\n",
    "        self.fc2 = nn.Linear(120, 84)\n",
    "        self.fc3 = nn.Linear(84,10)\n",
    "\n",
    "    def forward(self, X):\n",
    "        X = F.relu(self.conv1(X))\n",
    "        X = F.max_pool2d(X, 2, 2)\n",
    "        X = F.relu(self.conv2(X))\n",
    "        X = F.max_pool2d(X, 2, 2)\n",
    "        X = X.view(-1, 5*5*16)\n",
    "        X = F.relu(self.fc1(X))\n",
    "        X = F.relu(self.fc2(X))\n",
    "        X = self.fc3(X)\n",
    "        return F.log_softmax(X, dim=1)"
   ]
  },
  {
   "cell_type": "code",
   "execution_count": 8,
   "id": "aedb2143",
   "metadata": {},
   "outputs": [
    {
     "data": {
      "text/plain": [
       "<torch._C.Generator at 0x7fa1a87195f0>"
      ]
     },
     "execution_count": 8,
     "metadata": {},
     "output_type": "execute_result"
    }
   ],
   "source": [
    "torch.manual_seed(42)"
   ]
  },
  {
   "cell_type": "code",
   "execution_count": 16,
   "id": "73d9007a",
   "metadata": {},
   "outputs": [],
   "source": [
    "model = ConvolutionalNetwork()"
   ]
  },
  {
   "cell_type": "code",
   "execution_count": 10,
   "id": "9a11d119",
   "metadata": {},
   "outputs": [
    {
     "data": {
      "text/plain": [
       "ConvolutionalNetwork(\n",
       "  (conv1): Conv2d(1, 6, kernel_size=(3, 3), stride=(1, 1))\n",
       "  (conv2): Conv2d(6, 16, kernel_size=(3, 3), stride=(1, 1))\n",
       "  (fc1): Linear(in_features=400, out_features=120, bias=True)\n",
       "  (fc2): Linear(in_features=120, out_features=84, bias=True)\n",
       "  (fc3): Linear(in_features=84, out_features=10, bias=True)\n",
       ")"
      ]
     },
     "execution_count": 10,
     "metadata": {},
     "output_type": "execute_result"
    }
   ],
   "source": [
    "model"
   ]
  },
  {
   "cell_type": "code",
   "execution_count": 11,
   "id": "1dfa7c8c",
   "metadata": {},
   "outputs": [
    {
     "name": "stdout",
     "output_type": "stream",
     "text": [
      "54\n",
      "6\n",
      "864\n",
      "16\n",
      "48000\n",
      "120\n",
      "10080\n",
      "84\n",
      "840\n",
      "10\n"
     ]
    }
   ],
   "source": [
    "# total number of parameters = 60074 ... which is much less that multi-layer perceptron\n",
    "for param in model.parameters():\n",
    "    print(param.numel())"
   ]
  },
  {
   "cell_type": "code",
   "execution_count": 12,
   "id": "610326a5",
   "metadata": {},
   "outputs": [],
   "source": [
    "criterion = nn.CrossEntropyLoss()"
   ]
  },
  {
   "cell_type": "code",
   "execution_count": 13,
   "id": "51966b25",
   "metadata": {},
   "outputs": [],
   "source": [
    "optimizer = torch.optim.Adam(model.parameters(),lr=0.1)"
   ]
  },
  {
   "cell_type": "code",
   "execution_count": 17,
   "id": "2e821c3c",
   "metadata": {},
   "outputs": [
    {
     "name": "stdout",
     "output_type": "stream",
     "text": [
      "epoch:  0  batch:  600 [  6000/60000]  loss: 2.25386190  accuracy:  10.017%\n",
      "epoch:  0  batch: 1200 [ 12000/60000]  loss: 2.32516336  accuracy:  10.358%\n",
      "epoch:  0  batch: 1800 [ 18000/60000]  loss: 2.30425072  accuracy:   9.917%\n",
      "epoch:  0  batch: 2400 [ 24000/60000]  loss: 2.33820295  accuracy:   9.817%\n",
      "epoch:  0  batch: 3000 [ 30000/60000]  loss: 2.31255937  accuracy:   9.913%\n",
      "epoch:  0  batch: 3600 [ 36000/60000]  loss: 2.29890227  accuracy:   9.981%\n",
      "epoch:  0  batch: 4200 [ 42000/60000]  loss: 2.28501916  accuracy:   9.933%\n",
      "epoch:  0  batch: 4800 [ 48000/60000]  loss: 2.30917382  accuracy:   9.906%\n",
      "epoch:  0  batch: 5400 [ 54000/60000]  loss: 2.33056521  accuracy:   9.848%\n",
      "epoch:  0  batch: 6000 [ 60000/60000]  loss: 2.30441570  accuracy:   9.863%\n",
      "epoch:  1  batch:  600 [  6000/60000]  loss: 2.27200937  accuracy:  10.067%\n",
      "epoch:  1  batch: 1200 [ 12000/60000]  loss: 2.31907511  accuracy:   9.992%\n",
      "epoch:  1  batch: 1800 [ 18000/60000]  loss: 2.30079508  accuracy:  10.056%\n",
      "epoch:  1  batch: 2400 [ 24000/60000]  loss: 2.31873560  accuracy:  10.012%\n",
      "epoch:  1  batch: 3000 [ 30000/60000]  loss: 2.34473705  accuracy:  10.107%\n",
      "epoch:  1  batch: 3600 [ 36000/60000]  loss: 2.33372474  accuracy:  10.042%\n",
      "epoch:  1  batch: 4200 [ 42000/60000]  loss: 2.29634500  accuracy:   9.907%\n",
      "epoch:  1  batch: 4800 [ 48000/60000]  loss: 2.31976008  accuracy:   9.817%\n",
      "epoch:  1  batch: 5400 [ 54000/60000]  loss: 2.27454972  accuracy:   9.831%\n",
      "epoch:  1  batch: 6000 [ 60000/60000]  loss: 2.32203460  accuracy:   9.863%\n",
      "epoch:  2  batch:  600 [  6000/60000]  loss: 2.28841734  accuracy:   9.783%\n",
      "epoch:  2  batch: 1200 [ 12000/60000]  loss: 2.29655313  accuracy:   9.733%\n",
      "epoch:  2  batch: 1800 [ 18000/60000]  loss: 2.28675342  accuracy:  10.028%\n",
      "epoch:  2  batch: 2400 [ 24000/60000]  loss: 2.27290702  accuracy:  10.067%\n",
      "epoch:  2  batch: 3000 [ 30000/60000]  loss: 2.28797436  accuracy:  10.023%\n",
      "epoch:  2  batch: 3600 [ 36000/60000]  loss: 2.29366350  accuracy:   9.953%\n",
      "epoch:  2  batch: 4200 [ 42000/60000]  loss: 2.28033686  accuracy:   9.850%\n",
      "epoch:  2  batch: 4800 [ 48000/60000]  loss: 2.29721642  accuracy:   9.806%\n",
      "epoch:  2  batch: 5400 [ 54000/60000]  loss: 2.26370597  accuracy:   9.848%\n",
      "epoch:  2  batch: 6000 [ 60000/60000]  loss: 2.31266356  accuracy:   9.863%\n",
      "epoch:  3  batch:  600 [  6000/60000]  loss: 2.30243373  accuracy:  10.117%\n",
      "epoch:  3  batch: 1200 [ 12000/60000]  loss: 2.26981235  accuracy:   9.783%\n",
      "epoch:  3  batch: 1800 [ 18000/60000]  loss: 2.30669594  accuracy:   9.817%\n",
      "epoch:  3  batch: 2400 [ 24000/60000]  loss: 2.28330016  accuracy:   9.725%\n",
      "epoch:  3  batch: 3000 [ 30000/60000]  loss: 2.35116529  accuracy:   9.793%\n",
      "epoch:  3  batch: 3600 [ 36000/60000]  loss: 2.32827783  accuracy:   9.878%\n",
      "epoch:  3  batch: 4200 [ 42000/60000]  loss: 2.31094074  accuracy:   9.838%\n",
      "epoch:  3  batch: 4800 [ 48000/60000]  loss: 2.34107876  accuracy:   9.846%\n",
      "epoch:  3  batch: 5400 [ 54000/60000]  loss: 2.29825544  accuracy:   9.819%\n",
      "epoch:  3  batch: 6000 [ 60000/60000]  loss: 2.28488541  accuracy:   9.863%\n",
      "epoch:  4  batch:  600 [  6000/60000]  loss: 2.31573749  accuracy:  10.067%\n",
      "epoch:  4  batch: 1200 [ 12000/60000]  loss: 2.25883079  accuracy:   9.950%\n",
      "epoch:  4  batch: 1800 [ 18000/60000]  loss: 2.30102992  accuracy:   9.906%\n",
      "epoch:  4  batch: 2400 [ 24000/60000]  loss: 2.31329751  accuracy:   9.838%\n",
      "epoch:  4  batch: 3000 [ 30000/60000]  loss: 2.28091121  accuracy:   9.867%\n",
      "epoch:  4  batch: 3600 [ 36000/60000]  loss: 2.30840445  accuracy:   9.944%\n",
      "epoch:  4  batch: 4200 [ 42000/60000]  loss: 2.28848290  accuracy:   9.874%\n",
      "epoch:  4  batch: 4800 [ 48000/60000]  loss: 2.28611541  accuracy:   9.865%\n",
      "epoch:  4  batch: 5400 [ 54000/60000]  loss: 2.31280231  accuracy:   9.885%\n",
      "epoch:  4  batch: 6000 [ 60000/60000]  loss: 2.27516913  accuracy:   9.863%\n",
      "\n",
      "Duration: 151 seconds\n"
     ]
    }
   ],
   "source": [
    "import time\n",
    "start_time = time.time()\n",
    "\n",
    "epochs = 5\n",
    "train_losses = []\n",
    "test_losses = []\n",
    "train_correct = []\n",
    "test_correct = []\n",
    "\n",
    "for i in range(epochs):\n",
    "    trn_corr = 0\n",
    "    tst_corr = 0\n",
    "    \n",
    "    # Run the training batches\n",
    "    for b, (X_train, y_train) in enumerate(train_loader):\n",
    "        b+=1\n",
    "        \n",
    "        # Apply the model\n",
    "        y_pred = model(X_train)  # we don't flatten X-train here\n",
    "        loss = criterion(y_pred, y_train)\n",
    " \n",
    "        # Tally the number of correct predictions\n",
    "        predicted = torch.max(y_pred.data, 1)[1]\n",
    "        batch_corr = (predicted == y_train).sum()\n",
    "        trn_corr += batch_corr\n",
    "        \n",
    "        # Update parameters\n",
    "        optimizer.zero_grad()\n",
    "        loss.backward()\n",
    "        optimizer.step()\n",
    "        \n",
    "        # Print interim results\n",
    "        if b%600 == 0:\n",
    "            print(f'epoch: {i:2}  batch: {b:4} [{10*b:6}/60000]  loss: {loss.item():10.8f}  \\\n",
    "accuracy: {trn_corr.item()*100/(10*b):7.3f}%')\n",
    "        \n",
    "    train_losses.append(loss)\n",
    "    train_correct.append(trn_corr)\n",
    "        \n",
    "    # Run the testing batches\n",
    "    with torch.no_grad():\n",
    "        for b, (X_test, y_test) in enumerate(test_loader):\n",
    "\n",
    "            # Apply the model\n",
    "            y_val = model(X_test)\n",
    "\n",
    "            # Tally the number of correct predictions\n",
    "            predicted = torch.max(y_val.data, 1)[1] \n",
    "            tst_corr += (predicted == y_test).sum()\n",
    "            \n",
    "    loss = criterion(y_val, y_test)\n",
    "    test_losses.append(loss)\n",
    "    test_correct.append(tst_corr)\n",
    "        \n",
    "print(f'\\nDuration: {time.time() - start_time:.0f} seconds') # print the time elapsed     "
   ]
  },
  {
   "cell_type": "markdown",
   "id": "cb5bbf42",
   "metadata": {},
   "source": [
    "# Evaluate"
   ]
  },
  {
   "cell_type": "code",
   "execution_count": 22,
   "id": "d2f512f0",
   "metadata": {},
   "outputs": [],
   "source": [
    "train_losses = list(map(lambda x: x.item(), train_losses))\n",
    "test_losses = list(map(lambda x: x.item(), test_losses))"
   ]
  },
  {
   "cell_type": "code",
   "execution_count": 23,
   "id": "a2cb15e2",
   "metadata": {},
   "outputs": [
    {
     "data": {
      "image/png": "[encoded data removed]",
      "text/plain": [
       "<Figure size 432x288 with 1 Axes>"
      ]
     },
     "metadata": {
      "needs_background": "light"
     },
     "output_type": "display_data"
    }
   ],
   "source": [
    "plt.plot(train_losses, label='training loss')\n",
    "plt.plot(test_losses, label='validation loss')\n",
    "plt.title('Loss at the end of each epoch')\n",
    "plt.legend();"
   ]
  },
  {
   "cell_type": "code",
   "execution_count": 31,
   "id": "65c7e42e",
   "metadata": {},
   "outputs": [
    {
     "data": {
      "image/png": "[encoded data removed]",
      "text/plain": [
       "<Figure size 432x288 with 1 Axes>"
      ]
     },
     "metadata": {
      "needs_background": "light"
     },
     "output_type": "display_data"
    }
   ],
   "source": [
    "plt.plot([t/600 for t in train_correct], label='training accuracy')\n",
    "plt.plot([t/100 for t in test_correct], label='validation accuracy')\n",
    "plt.title('Accuracy at the end of each epoch')\n",
    "plt.legend();"
   ]
  },
  {
   "cell_type": "markdown",
   "id": "1e946cba",
   "metadata": {},
   "source": [
    "# Evaluate Test data"
   ]
  },
  {
   "cell_type": "code",
   "execution_count": 32,
   "id": "fcdc745a",
   "metadata": {},
   "outputs": [],
   "source": [
    "# Extract the data all at once, not in batches\n",
    "test_load_all = DataLoader(test_data, batch_size=10000, shuffle=False)"
   ]
  },
  {
   "cell_type": "code",
   "execution_count": 33,
   "id": "003d14ca",
   "metadata": {},
   "outputs": [
    {
     "name": "stdout",
     "output_type": "stream",
     "text": [
      "Test accuracy: 958/10000 =   9.580%\n"
     ]
    }
   ],
   "source": [
    "with torch.no_grad():\n",
    "    correct = 0\n",
    "    for X_test, y_test in test_load_all:\n",
    "        y_val = model(X_test)  # we don't flatten the data this time\n",
    "        predicted = torch.max(y_val,1)[1]\n",
    "        correct += (predicted == y_test).sum()\n",
    "print(f'Test accuracy: {correct.item()}/{len(test_data)} = {correct.item()*100/(len(test_data)):7.3f}%')"
   ]
  },
  {
   "cell_type": "code",
   "execution_count": 34,
   "id": "97e293f6",
   "metadata": {},
   "outputs": [
    {
     "name": "stdout",
     "output_type": "stream",
     "text": [
      "[[   0    1    2    3    4    5    6    7    8    9]]\n",
      "\n",
      "[[   0    0    0    0    0    0    0    0    0    0]\n",
      " [   0    0    0    0    0    0    0    0    0    0]\n",
      " [   0    0    0    0    0    0    0    0    0    0]\n",
      " [   0    0    0    0    0    0    0    0    0    0]\n",
      " [   0    0    0    0    0    0    0    0    0    0]\n",
      " [   0    0    0    0    0    0    0    0    0    0]\n",
      " [ 980 1135 1032 1010  982  892  958 1028  974 1009]\n",
      " [   0    0    0    0    0    0    0    0    0    0]\n",
      " [   0    0    0    0    0    0    0    0    0    0]\n",
      " [   0    0    0    0    0    0    0    0    0    0]]\n"
     ]
    }
   ],
   "source": [
    "# print a row of values for reference\n",
    "np.set_printoptions(formatter=dict(int=lambda x: f'{x:4}'))\n",
    "print(np.arange(10).reshape(1,10))\n",
    "print()\n",
    "\n",
    "# print the confusion matrix\n",
    "print(confusion_matrix(predicted.view(-1), y_test.view(-1)))"
   ]
  },
  {
   "cell_type": "code",
   "execution_count": null,
   "id": "64d115bc",
   "metadata": {},
   "outputs": [],
   "source": []
  }
 ],
 "metadata": {
  "kernelspec": {
   "display_name": "Python 3 (ipykernel)",
   "language": "python",
   "name": "python3"
  },
  "language_info": {
   "codemirror_mode": {
    "name": "ipython",
    "version": 3
   },
   "file_extension": ".py",
   "mimetype": "text/x-python",
   "name": "python",
   "nbconvert_exporter": "python",
   "pygments_lexer": "ipython3",
   "version": "3.7.11"
  }
 },
 "nbformat": 4,
 "nbformat_minor": 5
}
