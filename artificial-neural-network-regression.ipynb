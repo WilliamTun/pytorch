{
 "cells": [
  {
   "cell_type": "code",
   "execution_count": 1,
   "id": "94e1e565",
   "metadata": {},
   "outputs": [],
   "source": [
    "import torch\n",
    "import torch.nn as nn\n",
    "\n",
    "import numpy as np\n",
    "import pandas as pd\n",
    "import matplotlib.pyplot as plt\n",
    "%matplotlib inline"
   ]
  },
  {
   "cell_type": "code",
   "execution_count": 2,
   "id": "df3a79bb",
   "metadata": {},
   "outputs": [],
   "source": [
    "df = pd.read_csv('NYCTaxiFares.csv')"
   ]
  },
  {
   "cell_type": "code",
   "execution_count": 3,
   "id": "d99ebf96",
   "metadata": {},
   "outputs": [
    {
     "data": {
      "text/html": [
       "<div>\n",
       "<style scoped>\n",
       "    .dataframe tbody tr th:only-of-type {\n",
       "        vertical-align: middle;\n",
       "    }\n",
       "\n",
       "    .dataframe tbody tr th {\n",
       "        vertical-align: top;\n",
       "    }\n",
       "\n",
       "    .dataframe thead th {\n",
       "        text-align: right;\n",
       "    }\n",
       "</style>\n",
       "<table border=\"1\" class=\"dataframe\">\n",
       "  <thead>\n",
       "    <tr style=\"text-align: right;\">\n",
       "      <th></th>\n",
       "      <th>key</th>\n",
       "      <th>fare_amount</th>\n",
       "      <th>pickup_datetime</th>\n",
       "      <th>pickup_longitude</th>\n",
       "      <th>pickup_latitude</th>\n",
       "      <th>dropoff_longitude</th>\n",
       "      <th>dropoff_latitude</th>\n",
       "      <th>passenger_count</th>\n",
       "    </tr>\n",
       "  </thead>\n",
       "  <tbody>\n",
       "    <tr>\n",
       "      <th>0</th>\n",
       "      <td>2009-06-15 17:26:21.0000001</td>\n",
       "      <td>4.5</td>\n",
       "      <td>2009-06-15 17:26:21 UTC</td>\n",
       "      <td>-73.844311</td>\n",
       "      <td>40.721319</td>\n",
       "      <td>-73.841610</td>\n",
       "      <td>40.712278</td>\n",
       "      <td>1</td>\n",
       "    </tr>\n",
       "    <tr>\n",
       "      <th>1</th>\n",
       "      <td>2010-01-05 16:52:16.0000002</td>\n",
       "      <td>16.9</td>\n",
       "      <td>2010-01-05 16:52:16 UTC</td>\n",
       "      <td>-74.016048</td>\n",
       "      <td>40.711303</td>\n",
       "      <td>-73.979268</td>\n",
       "      <td>40.782004</td>\n",
       "      <td>1</td>\n",
       "    </tr>\n",
       "    <tr>\n",
       "      <th>2</th>\n",
       "      <td>2011-08-18 00:35:00.00000049</td>\n",
       "      <td>5.7</td>\n",
       "      <td>2011-08-18 00:35:00 UTC</td>\n",
       "      <td>-73.982738</td>\n",
       "      <td>40.761270</td>\n",
       "      <td>-73.991242</td>\n",
       "      <td>40.750562</td>\n",
       "      <td>2</td>\n",
       "    </tr>\n",
       "    <tr>\n",
       "      <th>3</th>\n",
       "      <td>2012-04-21 04:30:42.0000001</td>\n",
       "      <td>7.7</td>\n",
       "      <td>2012-04-21 04:30:42 UTC</td>\n",
       "      <td>-73.987130</td>\n",
       "      <td>40.733143</td>\n",
       "      <td>-73.991567</td>\n",
       "      <td>40.758092</td>\n",
       "      <td>1</td>\n",
       "    </tr>\n",
       "    <tr>\n",
       "      <th>4</th>\n",
       "      <td>2010-03-09 07:51:00.000000135</td>\n",
       "      <td>5.3</td>\n",
       "      <td>2010-03-09 07:51:00 UTC</td>\n",
       "      <td>-73.968095</td>\n",
       "      <td>40.768008</td>\n",
       "      <td>-73.956655</td>\n",
       "      <td>40.783762</td>\n",
       "      <td>1</td>\n",
       "    </tr>\n",
       "  </tbody>\n",
       "</table>\n",
       "</div>"
      ],
      "text/plain": [
       "                             key  fare_amount          pickup_datetime  \\\n",
       "0    2009-06-15 17:26:21.0000001          4.5  2009-06-15 17:26:21 UTC   \n",
       "1    2010-01-05 16:52:16.0000002         16.9  2010-01-05 16:52:16 UTC   \n",
       "2   2011-08-18 00:35:00.00000049          5.7  2011-08-18 00:35:00 UTC   \n",
       "3    2012-04-21 04:30:42.0000001          7.7  2012-04-21 04:30:42 UTC   \n",
       "4  2010-03-09 07:51:00.000000135          5.3  2010-03-09 07:51:00 UTC   \n",
       "\n",
       "   pickup_longitude  pickup_latitude  dropoff_longitude  dropoff_latitude  \\\n",
       "0        -73.844311        40.721319         -73.841610         40.712278   \n",
       "1        -74.016048        40.711303         -73.979268         40.782004   \n",
       "2        -73.982738        40.761270         -73.991242         40.750562   \n",
       "3        -73.987130        40.733143         -73.991567         40.758092   \n",
       "4        -73.968095        40.768008         -73.956655         40.783762   \n",
       "\n",
       "   passenger_count  \n",
       "0                1  \n",
       "1                1  \n",
       "2                2  \n",
       "3                1  \n",
       "4                1  "
      ]
     },
     "execution_count": 3,
     "metadata": {},
     "output_type": "execute_result"
    }
   ],
   "source": [
    "df.head()"
   ]
  },
  {
   "cell_type": "markdown",
   "id": "af96bd13",
   "metadata": {},
   "source": [
    "# Data-preprocessing -> Geospatial and time data"
   ]
  },
  {
   "cell_type": "markdown",
   "id": "e267fa83",
   "metadata": {},
   "source": [
    "## Calculate the distance traveled\n",
    "The <a href='https://en.wikipedia.org/wiki/Haversine_formula'>haversine formula</a> calculates the distance on a sphere between two sets of GPS coordinates.<br>\n",
    "Here we assign latitude values with $\\varphi$ (phi) and longitude with $\\lambda$ (lambda).\n",
    "\n",
    "The distance formula works out to\n",
    "\n",
    "${\\displaystyle d=2r\\arcsin \\left({\\sqrt {\\sin ^{2}\\left({\\frac {\\varphi _{2}-\\varphi _{1}}{2}}\\right)+\\cos(\\varphi _{1})\\:\\cos(\\varphi _{2})\\:\\sin ^{2}\\left({\\frac {\\lambda _{2}-\\lambda _{1}}{2}}\\right)}}\\right)}$\n",
    "\n",
    "where\n",
    "\n",
    "$\\begin{split} r&: \\textrm {radius of the sphere (Earth's radius averages 6371 km)}\\\\\n",
    "\\varphi_1, \\varphi_2&: \\textrm {latitudes of point 1 and point 2}\\\\\n",
    "\\lambda_1, \\lambda_2&: \\textrm {longitudes of point 1 and point 2}\\end{split}$"
   ]
  },
  {
   "cell_type": "code",
   "execution_count": 4,
   "id": "ce17944d",
   "metadata": {},
   "outputs": [],
   "source": [
    "def haversine_distance(df, lat1, long1, lat2, long2):\n",
    "    \"\"\"\n",
    "    Calculates the haversine distance between 2 sets of GPS coordinates in df\n",
    "    \"\"\"\n",
    "    r = 6371 # average radius of Earth in kilometers\n",
    "    \n",
    "    phi1 = np.radians(df[lat1])\n",
    "    phi2 = np.radians(df[lat2])\n",
    "    \n",
    "    delta_phi = np.radians(df[lat2]-df[lat1])\n",
    "    delta_lambda = np.radians(df[long2]-df[long1])\n",
    "    \n",
    "    a = np.sin(delta_phi/2)**2 + np.cos(phi1) * np.cos(phi2) * np.sin(delta_lambda)\n",
    "    c = 2 * np.arctan2(np.sqrt(a), np.sqrt(1-a))\n",
    "    d = (r*c)\n",
    "    \n",
    "    return d"
   ]
  },
  {
   "cell_type": "code",
   "execution_count": 5,
   "id": "53676068",
   "metadata": {},
   "outputs": [
    {
     "name": "stderr",
     "output_type": "stream",
     "text": [
      "/Users/williamtun/opt/anaconda3/envs/data/lib/python3.7/site-packages/pandas/core/series.py:726: RuntimeWarning: invalid value encountered in sqrt\n",
      "  result = getattr(ufunc, method)(*inputs, **kwargs)\n"
     ]
    }
   ],
   "source": [
    "df['dist_km'] = haversine_distance(df,'pickup_latitude','pickup_longitude','dropoff_latitude','dropoff_longitude')"
   ]
  },
  {
   "cell_type": "code",
   "execution_count": 6,
   "id": "3b2193ea",
   "metadata": {},
   "outputs": [
    {
     "data": {
      "text/plain": [
       "0       66.317333\n",
       "1      244.722934\n",
       "2             NaN\n",
       "3             NaN\n",
       "4      136.359115\n",
       "          ...    \n",
       "994           NaN\n",
       "995           NaN\n",
       "996           NaN\n",
       "997    356.014132\n",
       "998           NaN\n",
       "Name: dist_km, Length: 999, dtype: float64"
      ]
     },
     "execution_count": 6,
     "metadata": {},
     "output_type": "execute_result"
    }
   ],
   "source": [
    "df['dist_km']"
   ]
  },
  {
   "cell_type": "code",
   "execution_count": 12,
   "id": "9c9b025d",
   "metadata": {},
   "outputs": [],
   "source": [
    "df = df.dropna().reset_index(drop=True)"
   ]
  },
  {
   "cell_type": "code",
   "execution_count": 15,
   "id": "e7272807",
   "metadata": {},
   "outputs": [],
   "source": [
    "df['pickup_datetime'] = pd.to_datetime(df['pickup_datetime'])"
   ]
  },
  {
   "cell_type": "code",
   "execution_count": 17,
   "id": "ae2293af",
   "metadata": {},
   "outputs": [
    {
     "name": "stdout",
     "output_type": "stream",
     "text": [
      "<class 'pandas.core.frame.DataFrame'>\n",
      "RangeIndex: 549 entries, 0 to 548\n",
      "Data columns (total 9 columns):\n",
      " #   Column             Non-Null Count  Dtype              \n",
      "---  ------             --------------  -----              \n",
      " 0   key                549 non-null    object             \n",
      " 1   fare_amount        549 non-null    float64            \n",
      " 2   pickup_datetime    549 non-null    datetime64[ns, UTC]\n",
      " 3   pickup_longitude   549 non-null    float64            \n",
      " 4   pickup_latitude    549 non-null    float64            \n",
      " 5   dropoff_longitude  549 non-null    float64            \n",
      " 6   dropoff_latitude   549 non-null    float64            \n",
      " 7   passenger_count    549 non-null    int64              \n",
      " 8   dist_km            549 non-null    float64            \n",
      "dtypes: datetime64[ns, UTC](1), float64(6), int64(1), object(1)\n",
      "memory usage: 38.7+ KB\n"
     ]
    }
   ],
   "source": [
    "df.info()"
   ]
  },
  {
   "cell_type": "code",
   "execution_count": 18,
   "id": "474c7188",
   "metadata": {},
   "outputs": [],
   "source": [
    " df['EDTdate'] = df['pickup_datetime'] - pd.Timedelta(hours=4)"
   ]
  },
  {
   "cell_type": "code",
   "execution_count": 19,
   "id": "10444e1f",
   "metadata": {},
   "outputs": [],
   "source": [
    "df['Hour'] = df['EDTdate'].dt.hour"
   ]
  },
  {
   "cell_type": "code",
   "execution_count": 20,
   "id": "3e5bddf4",
   "metadata": {},
   "outputs": [],
   "source": [
    "df['AMorPM'] = np.where(df['Hour']>12, 'am', 'pm')"
   ]
  },
  {
   "cell_type": "code",
   "execution_count": 22,
   "id": "0a418a15",
   "metadata": {},
   "outputs": [],
   "source": [
    "df['Weekday'] = df['EDTdate'].dt.strftime(\"%a\")"
   ]
  },
  {
   "cell_type": "code",
   "execution_count": 23,
   "id": "75f4b2a3",
   "metadata": {},
   "outputs": [
    {
     "data": {
      "text/html": [
       "<div>\n",
       "<style scoped>\n",
       "    .dataframe tbody tr th:only-of-type {\n",
       "        vertical-align: middle;\n",
       "    }\n",
       "\n",
       "    .dataframe tbody tr th {\n",
       "        vertical-align: top;\n",
       "    }\n",
       "\n",
       "    .dataframe thead th {\n",
       "        text-align: right;\n",
       "    }\n",
       "</style>\n",
       "<table border=\"1\" class=\"dataframe\">\n",
       "  <thead>\n",
       "    <tr style=\"text-align: right;\">\n",
       "      <th></th>\n",
       "      <th>key</th>\n",
       "      <th>fare_amount</th>\n",
       "      <th>pickup_datetime</th>\n",
       "      <th>pickup_longitude</th>\n",
       "      <th>pickup_latitude</th>\n",
       "      <th>dropoff_longitude</th>\n",
       "      <th>dropoff_latitude</th>\n",
       "      <th>passenger_count</th>\n",
       "      <th>dist_km</th>\n",
       "      <th>EDTdate</th>\n",
       "      <th>Hour</th>\n",
       "      <th>AMorPM</th>\n",
       "      <th>Weekday</th>\n",
       "    </tr>\n",
       "  </thead>\n",
       "  <tbody>\n",
       "    <tr>\n",
       "      <th>0</th>\n",
       "      <td>2009-06-15 17:26:21.0000001</td>\n",
       "      <td>4.5</td>\n",
       "      <td>2009-06-15 17:26:21+00:00</td>\n",
       "      <td>-73.844311</td>\n",
       "      <td>40.721319</td>\n",
       "      <td>-73.841610</td>\n",
       "      <td>40.712278</td>\n",
       "      <td>1</td>\n",
       "      <td>66.317333</td>\n",
       "      <td>2009-06-15 13:26:21+00:00</td>\n",
       "      <td>13</td>\n",
       "      <td>am</td>\n",
       "      <td>Mon</td>\n",
       "    </tr>\n",
       "    <tr>\n",
       "      <th>1</th>\n",
       "      <td>2010-01-05 16:52:16.0000002</td>\n",
       "      <td>16.9</td>\n",
       "      <td>2010-01-05 16:52:16+00:00</td>\n",
       "      <td>-74.016048</td>\n",
       "      <td>40.711303</td>\n",
       "      <td>-73.979268</td>\n",
       "      <td>40.782004</td>\n",
       "      <td>1</td>\n",
       "      <td>244.722934</td>\n",
       "      <td>2010-01-05 12:52:16+00:00</td>\n",
       "      <td>12</td>\n",
       "      <td>pm</td>\n",
       "      <td>Tue</td>\n",
       "    </tr>\n",
       "    <tr>\n",
       "      <th>2</th>\n",
       "      <td>2010-03-09 07:51:00.000000135</td>\n",
       "      <td>5.3</td>\n",
       "      <td>2010-03-09 07:51:00+00:00</td>\n",
       "      <td>-73.968095</td>\n",
       "      <td>40.768008</td>\n",
       "      <td>-73.956655</td>\n",
       "      <td>40.783762</td>\n",
       "      <td>1</td>\n",
       "      <td>136.359115</td>\n",
       "      <td>2010-03-09 03:51:00+00:00</td>\n",
       "      <td>3</td>\n",
       "      <td>pm</td>\n",
       "      <td>Tue</td>\n",
       "    </tr>\n",
       "    <tr>\n",
       "      <th>3</th>\n",
       "      <td>2011-01-06 09:50:45.0000002</td>\n",
       "      <td>12.1</td>\n",
       "      <td>2011-01-06 09:50:45+00:00</td>\n",
       "      <td>-74.000964</td>\n",
       "      <td>40.731630</td>\n",
       "      <td>-73.972892</td>\n",
       "      <td>40.758233</td>\n",
       "      <td>1</td>\n",
       "      <td>213.711504</td>\n",
       "      <td>2011-01-06 05:50:45+00:00</td>\n",
       "      <td>5</td>\n",
       "      <td>pm</td>\n",
       "      <td>Thu</td>\n",
       "    </tr>\n",
       "    <tr>\n",
       "      <th>4</th>\n",
       "      <td>2012-11-20 20:35:00.0000001</td>\n",
       "      <td>7.5</td>\n",
       "      <td>2012-11-20 20:35:00+00:00</td>\n",
       "      <td>-73.980002</td>\n",
       "      <td>40.751662</td>\n",
       "      <td>-73.973802</td>\n",
       "      <td>40.764842</td>\n",
       "      <td>1</td>\n",
       "      <td>100.412752</td>\n",
       "      <td>2012-11-20 16:35:00+00:00</td>\n",
       "      <td>16</td>\n",
       "      <td>am</td>\n",
       "      <td>Tue</td>\n",
       "    </tr>\n",
       "  </tbody>\n",
       "</table>\n",
       "</div>"
      ],
      "text/plain": [
       "                             key  fare_amount           pickup_datetime  \\\n",
       "0    2009-06-15 17:26:21.0000001          4.5 2009-06-15 17:26:21+00:00   \n",
       "1    2010-01-05 16:52:16.0000002         16.9 2010-01-05 16:52:16+00:00   \n",
       "2  2010-03-09 07:51:00.000000135          5.3 2010-03-09 07:51:00+00:00   \n",
       "3    2011-01-06 09:50:45.0000002         12.1 2011-01-06 09:50:45+00:00   \n",
       "4    2012-11-20 20:35:00.0000001          7.5 2012-11-20 20:35:00+00:00   \n",
       "\n",
       "   pickup_longitude  pickup_latitude  dropoff_longitude  dropoff_latitude  \\\n",
       "0        -73.844311        40.721319         -73.841610         40.712278   \n",
       "1        -74.016048        40.711303         -73.979268         40.782004   \n",
       "2        -73.968095        40.768008         -73.956655         40.783762   \n",
       "3        -74.000964        40.731630         -73.972892         40.758233   \n",
       "4        -73.980002        40.751662         -73.973802         40.764842   \n",
       "\n",
       "   passenger_count     dist_km                   EDTdate  Hour AMorPM Weekday  \n",
       "0                1   66.317333 2009-06-15 13:26:21+00:00    13     am     Mon  \n",
       "1                1  244.722934 2010-01-05 12:52:16+00:00    12     pm     Tue  \n",
       "2                1  136.359115 2010-03-09 03:51:00+00:00     3     pm     Tue  \n",
       "3                1  213.711504 2011-01-06 05:50:45+00:00     5     pm     Thu  \n",
       "4                1  100.412752 2012-11-20 16:35:00+00:00    16     am     Tue  "
      ]
     },
     "execution_count": 23,
     "metadata": {},
     "output_type": "execute_result"
    }
   ],
   "source": [
    "df.head()"
   ]
  },
  {
   "cell_type": "code",
   "execution_count": 24,
   "id": "e01a3927",
   "metadata": {},
   "outputs": [],
   "source": [
    "## Separate categorical from continuous columns"
   ]
  },
  {
   "cell_type": "code",
   "execution_count": 25,
   "id": "932991ce",
   "metadata": {},
   "outputs": [],
   "source": [
    "cat_cols = ['Hour', 'AMorPM', 'Weekday']\n",
    "cont_cols = ['pickup_latitude', 'pickup_longitude', 'dropoff_latitude', 'dropoff_longitude', 'passenger_count', 'dist_km']\n",
    "y_col = ['fare_amount']  # this column contains the labels"
   ]
  },
  {
   "cell_type": "code",
   "execution_count": 28,
   "id": "0ff93f57",
   "metadata": {},
   "outputs": [],
   "source": [
    "# Pandas offers a category dtype for converting categorical values to numerical codes. \n",
    "# A dataset containing months of the year will be assigned 12 codes, one for each month. \n",
    "# These will usually be the integers 0 to 11. Pandas replaces the column values with codes, \n",
    "# and retains an index list of category values.\n",
    "\n",
    "for cat in cat_cols:\n",
    "    df[cat] = df[cat].astype('category')"
   ]
  },
  {
   "cell_type": "code",
   "execution_count": 27,
   "id": "4b7faa42",
   "metadata": {},
   "outputs": [
    {
     "data": {
      "text/plain": [
       "key                               object\n",
       "fare_amount                      float64\n",
       "pickup_datetime      datetime64[ns, UTC]\n",
       "pickup_longitude                 float64\n",
       "pickup_latitude                  float64\n",
       "dropoff_longitude                float64\n",
       "dropoff_latitude                 float64\n",
       "passenger_count                    int64\n",
       "dist_km                          float64\n",
       "EDTdate              datetime64[ns, UTC]\n",
       "Hour                            category\n",
       "AMorPM                          category\n",
       "Weekday                         category\n",
       "dtype: object"
      ]
     },
     "execution_count": 27,
     "metadata": {},
     "output_type": "execute_result"
    }
   ],
   "source": [
    "df.dtypes"
   ]
  },
  {
   "cell_type": "code",
   "execution_count": 30,
   "id": "37ab1b86",
   "metadata": {},
   "outputs": [
    {
     "data": {
      "text/plain": [
       "0    Mon\n",
       "1    Tue\n",
       "2    Tue\n",
       "3    Thu\n",
       "4    Tue\n",
       "Name: Weekday, dtype: category\n",
       "Categories (7, object): ['Fri', 'Mon', 'Sat', 'Sun', 'Thu', 'Tue', 'Wed']"
      ]
     },
     "execution_count": 30,
     "metadata": {},
     "output_type": "execute_result"
    }
   ],
   "source": [
    "# Weekday is not of type category, along with AMorPM and Hour\n",
    "df['Weekday'].head()"
   ]
  },
  {
   "cell_type": "code",
   "execution_count": 32,
   "id": "1fce5686",
   "metadata": {},
   "outputs": [
    {
     "data": {
      "text/plain": [
       "array([1, 5, 5, 4, 5, 1, 3, 1, 4, 5, 2, 6, 2, 5, 4, 1, 5, 1, 5, 2, 3, 2,\n",
       "       4, 1, 5, 2, 6, 0, 6, 5, 5, 2, 6, 0, 2, 6, 1, 4, 1, 6, 0, 1, 1, 0,\n",
       "       5, 3, 1, 2, 0, 6, 1, 4, 1, 4, 5, 0, 0, 6, 0, 4, 5, 1, 3, 5, 4, 0,\n",
       "       4, 3, 0, 2, 3, 4, 0, 5, 1, 2, 3, 5, 0, 2, 2, 2, 1, 3, 4, 1, 5, 2,\n",
       "       5, 2, 3, 4, 3, 3, 3, 0, 0, 2, 2, 6, 0, 4, 6, 3, 5, 2, 5, 6, 3, 4,\n",
       "       5, 2, 2, 5, 0, 5, 1, 2, 5, 6, 0, 3, 0, 0, 5, 0, 6, 2, 0, 3, 1, 2,\n",
       "       6, 2, 5, 3, 6, 1, 0, 2, 2, 2, 1, 2, 5, 4, 3, 4, 5, 0, 0, 3, 6, 0,\n",
       "       4, 6, 0, 3, 3, 1, 6, 0, 1, 3, 5, 1, 0, 4, 2, 5, 1, 4, 4, 2, 0, 4,\n",
       "       6, 5, 4, 1, 0, 6, 0, 3, 3, 4, 5, 5, 5, 3, 0, 6, 0, 3, 3, 2, 5, 4,\n",
       "       0, 3, 0, 2, 4, 5, 3, 4, 4, 2, 4, 5, 3, 6, 0, 4, 4, 6, 6, 6, 6, 0,\n",
       "       3, 2, 6, 2, 1, 2, 4, 4, 2, 6, 3, 1, 0, 2, 5, 0, 5, 3, 6, 5, 1, 0,\n",
       "       6, 0, 4, 6, 6, 2, 5, 2, 3, 5, 5, 1, 1, 6, 2, 4, 5, 6, 3, 4, 1, 4,\n",
       "       2, 1, 1, 0, 3, 6, 1, 2, 2, 6, 1, 2, 2, 2, 4, 1, 0, 5, 4, 1, 2, 2,\n",
       "       3, 6, 1, 1, 5, 2, 3, 5, 5, 0, 1, 0, 6, 1, 6, 4, 4, 0, 0, 6, 5, 5,\n",
       "       0, 1, 4, 2, 1, 1, 2, 0, 6, 0, 5, 1, 5, 1, 6, 6, 3, 6, 5, 4, 0, 5,\n",
       "       1, 2, 6, 3, 1, 2, 0, 0, 6, 0, 2, 6, 2, 5, 4, 0, 2, 1, 5, 3, 6, 2,\n",
       "       4, 4, 4, 1, 1, 1, 5, 4, 1, 2, 0, 6, 2, 4, 3, 0, 4, 1, 2, 1, 2, 5,\n",
       "       2, 5, 5, 1, 1, 6, 6, 1, 6, 1, 4, 0, 4, 6, 5, 0, 4, 0, 6, 2, 2, 6,\n",
       "       2, 4, 4, 0, 1, 2, 1, 5, 1, 1, 0, 4, 5, 4, 0, 4, 0, 6, 5, 4, 0, 1,\n",
       "       4, 3, 4, 3, 0, 3, 1, 3, 5, 1, 6, 6, 4, 3, 2, 3, 5, 1, 0, 6, 0, 3,\n",
       "       3, 5, 2, 5, 2, 4, 6, 6, 3, 4, 4, 4, 2, 5, 4, 6, 2, 6, 3, 6, 0, 6,\n",
       "       4, 2, 2, 1, 6, 2, 0, 4, 0, 0, 5, 4, 4, 6, 5, 1, 2, 6, 6, 1, 2, 6,\n",
       "       5, 1, 2, 0, 2, 4, 0, 5, 3, 6, 1, 6, 6, 0, 1, 0, 3, 6, 1, 2, 4, 4,\n",
       "       6, 4, 2, 2, 6, 5, 4, 5, 1, 1, 4, 6, 2, 0, 0, 4, 6, 0, 1, 5, 5, 0,\n",
       "       0, 5, 3, 3, 6, 4, 2, 4, 5, 6, 0, 1, 1, 0, 2, 4, 5, 1, 4, 6, 4],\n",
       "      dtype=int8)"
      ]
     },
     "execution_count": 32,
     "metadata": {},
     "output_type": "execute_result"
    }
   ],
   "source": [
    "df['Weekday'].cat.codes.values"
   ]
  },
  {
   "cell_type": "code",
   "execution_count": 33,
   "id": "45a96da5",
   "metadata": {},
   "outputs": [],
   "source": [
    "hr = df['Hour'].cat.codes.values\n",
    "ampm = df['AMorPM'].cat.codes.values\n",
    "wkdy = df['Weekday'].cat.codes.values"
   ]
  },
  {
   "cell_type": "code",
   "execution_count": 40,
   "id": "c3aba285",
   "metadata": {},
   "outputs": [],
   "source": [
    "cats = np.stack([hr, ampm, wkdy],axis=1) # make into an array which is ready to be converted to dataframe. "
   ]
  },
  {
   "cell_type": "code",
   "execution_count": 41,
   "id": "a24a9918",
   "metadata": {},
   "outputs": [],
   "source": [
    "cats = torch.tensor(cats, dtype=torch.int64)"
   ]
  },
  {
   "cell_type": "code",
   "execution_count": 111,
   "id": "2299139b",
   "metadata": {},
   "outputs": [],
   "source": [
    "conts = np.stack([df[col].values for col in cont_cols], axis=1)\n",
    "conts = torch.tensor(conts, dtype=torch.float)"
   ]
  },
  {
   "cell_type": "code",
   "execution_count": 46,
   "id": "5edf520c",
   "metadata": {},
   "outputs": [],
   "source": [
    "y = torch.tensor(df[y_col].values, dtype=torch.float).reshape(-1,1)"
   ]
  },
  {
   "cell_type": "code",
   "execution_count": 113,
   "id": "3618a7f8",
   "metadata": {},
   "outputs": [
    {
     "data": {
      "text/plain": [
       "torch.Size([549, 3])"
      ]
     },
     "execution_count": 113,
     "metadata": {},
     "output_type": "execute_result"
    }
   ],
   "source": [
    "cats.shape"
   ]
  },
  {
   "cell_type": "code",
   "execution_count": 112,
   "id": "1c03101d",
   "metadata": {},
   "outputs": [
    {
     "data": {
      "text/plain": [
       "torch.Size([549, 6])"
      ]
     },
     "execution_count": 112,
     "metadata": {},
     "output_type": "execute_result"
    }
   ],
   "source": [
    "conts.shape"
   ]
  },
  {
   "cell_type": "code",
   "execution_count": 48,
   "id": "a5bc787f",
   "metadata": {},
   "outputs": [
    {
     "data": {
      "text/plain": [
       "torch.Size([549, 1])"
      ]
     },
     "execution_count": 48,
     "metadata": {},
     "output_type": "execute_result"
    }
   ],
   "source": [
    "y.shape"
   ]
  },
  {
   "cell_type": "code",
   "execution_count": 50,
   "id": "b5903263",
   "metadata": {},
   "outputs": [],
   "source": [
    "cats_szs = [len(df[col].cat.categories) for col in cat_cols]"
   ]
  },
  {
   "cell_type": "code",
   "execution_count": 51,
   "id": "40bfff08",
   "metadata": {},
   "outputs": [
    {
     "data": {
      "text/plain": [
       "[24, 2, 7]"
      ]
     },
     "execution_count": 51,
     "metadata": {},
     "output_type": "execute_result"
    }
   ],
   "source": [
    "cats_szs "
   ]
  },
  {
   "cell_type": "code",
   "execution_count": 53,
   "id": "55b327f4",
   "metadata": {},
   "outputs": [],
   "source": [
    "emb_szs = [(size, min(50, (size+1) // 2)) for size in cats_szs]"
   ]
  },
  {
   "cell_type": "code",
   "execution_count": 54,
   "id": "c4ac90ca",
   "metadata": {},
   "outputs": [
    {
     "data": {
      "text/plain": [
       "[(24, 12), (2, 1), (7, 4)]"
      ]
     },
     "execution_count": 54,
     "metadata": {},
     "output_type": "execute_result"
    }
   ],
   "source": [
    "emb_szs"
   ]
  },
  {
   "cell_type": "markdown",
   "id": "6973dfad",
   "metadata": {},
   "source": [
    "# Neural Network theory"
   ]
  },
  {
   "cell_type": "code",
   "execution_count": 55,
   "id": "a4144b0d",
   "metadata": {},
   "outputs": [
    {
     "data": {
      "text/plain": [
       "ModuleList(\n",
       "  (0): Embedding(24, 12)\n",
       "  (1): Embedding(2, 1)\n",
       "  (2): Embedding(7, 4)\n",
       ")"
      ]
     },
     "execution_count": 55,
     "metadata": {},
     "output_type": "execute_result"
    }
   ],
   "source": [
    "nn.ModuleList(nn.Embedding(ni,nf) for ni,nf in emb_szs)"
   ]
  },
  {
   "cell_type": "markdown",
   "id": "33d2a7a4",
   "metadata": {},
   "source": [
    "# Under stand the feed forward phase, step by step"
   ]
  },
  {
   "cell_type": "code",
   "execution_count": 56,
   "id": "a1422ed6",
   "metadata": {},
   "outputs": [],
   "source": [
    "selfembeds = nn.ModuleList(nn.Embedding(ni,nf) for ni,nf in emb_szs)"
   ]
  },
  {
   "cell_type": "code",
   "execution_count": 59,
   "id": "44a4fb3c",
   "metadata": {},
   "outputs": [],
   "source": [
    "# FORWARD Method (cats)\n",
    "embeddingz = [] \n",
    "catz = cats[:4]\n",
    "\n",
    "for i,e in enumerate(selfembeds):\n",
    "    embeddingz.append(e(catz[:,i])) # passing in cataz data into the embeddings"
   ]
  },
  {
   "cell_type": "code",
   "execution_count": 60,
   "id": "fc14739c",
   "metadata": {},
   "outputs": [
    {
     "data": {
      "text/plain": [
       "[tensor([[-5.4264e-01, -3.9485e-01, -4.6607e-01, -6.3213e-01, -4.5766e-01,\n",
       "          -6.8646e-01,  1.0475e+00,  2.6000e-01,  1.3017e+00,  6.3833e-01,\n",
       "          -5.5707e-01,  9.2102e-01],\n",
       "         [-6.8157e-01,  3.5929e-01, -2.2425e+00,  4.4827e-01, -4.9909e-01,\n",
       "          -5.2533e-01,  1.0478e+00, -1.1723e+00, -4.6064e-01, -1.5524e+00,\n",
       "           2.5826e-01,  1.0065e+00],\n",
       "         [-1.9417e+00, -6.1552e-01,  9.1619e-01,  4.2859e-01,  5.7684e-01,\n",
       "          -1.4384e+00,  4.6443e-01,  7.7745e-01, -1.3975e+00,  1.2819e+00,\n",
       "          -9.4170e-01, -1.0738e-01],\n",
       "         [ 3.0886e-01, -2.0396e+00,  3.5622e-01,  1.3666e+00,  5.9600e-01,\n",
       "           1.5506e-01, -1.2971e-01, -1.3129e+00, -2.1359e-04, -1.4250e+00,\n",
       "          -1.1297e+00,  5.4012e-01]], grad_fn=<EmbeddingBackward>),\n",
       " tensor([[ 0.6715],\n",
       "         [-1.6242],\n",
       "         [-1.6242],\n",
       "         [-1.6242]], grad_fn=<EmbeddingBackward>),\n",
       " tensor([[ 0.9334, -0.7990,  0.8610, -0.0856],\n",
       "         [-0.3255,  1.3117, -1.4010, -0.1188],\n",
       "         [-0.3255,  1.3117, -1.4010, -0.1188],\n",
       "         [ 0.2705, -1.1324,  0.6069,  0.7923]], grad_fn=<EmbeddingBackward>)]"
      ]
     },
     "execution_count": 60,
     "metadata": {},
     "output_type": "execute_result"
    }
   ],
   "source": [
    "embeddingz"
   ]
  },
  {
   "cell_type": "code",
   "execution_count": 61,
   "id": "1edc1f0d",
   "metadata": {},
   "outputs": [],
   "source": [
    "z = torch.cat(embeddingz, 1)"
   ]
  },
  {
   "cell_type": "code",
   "execution_count": 62,
   "id": "feab2c37",
   "metadata": {},
   "outputs": [],
   "source": [
    "selfembdrop = nn.Dropout(0.4) # drop out to randomly drop out some neurons"
   ]
  },
  {
   "cell_type": "code",
   "execution_count": 63,
   "id": "4c6242db",
   "metadata": {},
   "outputs": [],
   "source": [
    "z = selfembdrop(z)"
   ]
  },
  {
   "cell_type": "code",
   "execution_count": 64,
   "id": "e42e4c75",
   "metadata": {},
   "outputs": [
    {
     "data": {
      "text/plain": [
       "tensor([[-0.0000, -0.0000, -0.7768, -0.0000, -0.7628, -1.1441,  1.7458,  0.0000,\n",
       "          2.1695,  1.0639, -0.9285,  1.5350,  0.0000,  1.5556, -0.0000,  1.4349,\n",
       "         -0.1426],\n",
       "        [-0.0000,  0.0000, -3.7375,  0.0000, -0.0000, -0.0000,  1.7463, -0.0000,\n",
       "         -0.7677, -2.5873,  0.4304,  0.0000, -0.0000, -0.5425,  2.1862, -2.3351,\n",
       "         -0.1980],\n",
       "        [-3.2362, -0.0000,  1.5270,  0.0000,  0.9614, -2.3974,  0.7740,  0.0000,\n",
       "         -0.0000,  2.1365, -1.5695, -0.1790, -2.7070, -0.0000,  2.1862, -0.0000,\n",
       "         -0.0000],\n",
       "        [ 0.5148, -3.3993,  0.5937,  2.2777,  0.9933,  0.2584, -0.2162, -0.0000,\n",
       "         -0.0000, -2.3750, -1.8829,  0.9002, -2.7070,  0.0000, -1.8873,  1.0115,\n",
       "          1.3204]], grad_fn=<MulBackward0>)"
      ]
     },
     "execution_count": 64,
     "metadata": {},
     "output_type": "execute_result"
    }
   ],
   "source": [
    "z"
   ]
  },
  {
   "cell_type": "markdown",
   "id": "6495c402",
   "metadata": {},
   "source": [
    "# Actual ANN model for regression"
   ]
  },
  {
   "cell_type": "code",
   "execution_count": 137,
   "id": "6fde88aa",
   "metadata": {},
   "outputs": [],
   "source": [
    "class TabularModel(nn.Module):\n",
    "    \n",
    "    def __init__(self,emb_szs,n_cont,out_sz,layers,p=0.5):\n",
    "        # @param: emb_szs\n",
    "        # @param: n_cont = number of rows in continuous variable table\n",
    "        # @param: out_sz = output size. In ourcase, we predict 1 value per row. \n",
    "        # @param: layers = list of how many neurons you want per layer\n",
    "        \n",
    "        # Layers = [200,100,50]\n",
    "        \n",
    "        super().__init__()\n",
    "        self.embeds = nn.ModuleList([nn.Embedding(ni,nf) for ni,nf in emb_szs])\n",
    "        self.emb_drop = nn.Dropout(p)\n",
    "        self.bn_cont = nn.BatchNorm1d(n_cont)\n",
    "        \n",
    "        layerlist = []\n",
    "        n_emb = sum([nf for ni,nf in emb_szs]) # total number of embeddings\n",
    "        n_in = n_emb + n_cont\n",
    "        \n",
    "        for i in layers:\n",
    "            layerlist.append(nn.Linear(n_in, i))\n",
    "            layerlist.append(nn.ReLU(inplace=True))\n",
    "            layerlist.append(nn.BatchNorm1d(i))\n",
    "            layerlist.append(nn.Dropout(p))\n",
    "            n_in = i\n",
    "        \n",
    "        layerlist.append(nn.Linear(layers[-1],out_sz))\n",
    "        \n",
    "        self.layers = nn.Sequential(*layerlist)\n",
    "        \n",
    "    def forward(self, x_cat, x_cont): \n",
    "        # @param: x_cat = pass in categorical \n",
    "        # @param: x_cont = pass in continious \n",
    "        embeddings = []\n",
    "        \n",
    "        # forward pass\n",
    "        for i,e in enumerate(self.embeds):\n",
    "            embeddings.append(e(x_cat[:,i]))\n",
    "        \n",
    "        x = torch.cat(embeddings,1)\n",
    "        x = self.emb_drop(x)\n",
    "        \n",
    "        x_cont = self.bn_cont(x_cont)\n",
    "        x = torch.cat([x, x_cont],1)\n",
    "        x = self.layers(x)\n",
    "        return x\n",
    "        "
   ]
  },
  {
   "cell_type": "code",
   "execution_count": 138,
   "id": "c80595f3",
   "metadata": {},
   "outputs": [
    {
     "data": {
      "text/plain": [
       "<torch._C.Generator at 0x7fe4009165d0>"
      ]
     },
     "execution_count": 138,
     "metadata": {},
     "output_type": "execute_result"
    }
   ],
   "source": [
    "torch.manual_seed(33)"
   ]
  },
  {
   "cell_type": "code",
   "execution_count": 139,
   "id": "8d5780ec",
   "metadata": {},
   "outputs": [],
   "source": [
    "model = TabularModel(emb_szs,conts.shape[1],1,[200,100], p=0.4)\n",
    "\n",
    "# @param: layers -> 200 in first layer, 100 in second layer\n",
    "# @param: p -> probability for dropout lyaer"
   ]
  },
  {
   "cell_type": "code",
   "execution_count": 140,
   "id": "867d515a",
   "metadata": {},
   "outputs": [
    {
     "data": {
      "text/plain": [
       "TabularModel(\n",
       "  (embeds): ModuleList(\n",
       "    (0): Embedding(24, 12)\n",
       "    (1): Embedding(2, 1)\n",
       "    (2): Embedding(7, 4)\n",
       "  )\n",
       "  (emb_drop): Dropout(p=0.4, inplace=False)\n",
       "  (bn_cont): BatchNorm1d(6, eps=1e-05, momentum=0.1, affine=True, track_running_stats=True)\n",
       "  (layers): Sequential(\n",
       "    (0): Linear(in_features=23, out_features=200, bias=True)\n",
       "    (1): ReLU(inplace=True)\n",
       "    (2): BatchNorm1d(200, eps=1e-05, momentum=0.1, affine=True, track_running_stats=True)\n",
       "    (3): Dropout(p=0.4, inplace=False)\n",
       "    (4): Linear(in_features=200, out_features=100, bias=True)\n",
       "    (5): ReLU(inplace=True)\n",
       "    (6): BatchNorm1d(100, eps=1e-05, momentum=0.1, affine=True, track_running_stats=True)\n",
       "    (7): Dropout(p=0.4, inplace=False)\n",
       "    (8): Linear(in_features=100, out_features=1, bias=True)\n",
       "  )\n",
       ")"
      ]
     },
     "execution_count": 140,
     "metadata": {},
     "output_type": "execute_result"
    }
   ],
   "source": [
    "model"
   ]
  },
  {
   "cell_type": "code",
   "execution_count": 141,
   "id": "f446ee00",
   "metadata": {},
   "outputs": [],
   "source": [
    "criterion = nn.MSELoss() # np.sqrt(MSE) -> RMSE\n",
    "optimizer = torch.optim.Adam(model.parameters(),lr=0.001)"
   ]
  },
  {
   "cell_type": "code",
   "execution_count": 107,
   "id": "4d5a5df1",
   "metadata": {},
   "outputs": [],
   "source": [
    "# train test split"
   ]
  },
  {
   "cell_type": "code",
   "execution_count": 142,
   "id": "665d3e37",
   "metadata": {},
   "outputs": [
    {
     "data": {
      "text/plain": [
       "(549, 13)"
      ]
     },
     "execution_count": 142,
     "metadata": {},
     "output_type": "execute_result"
    }
   ],
   "source": [
    "df.shape"
   ]
  },
  {
   "cell_type": "code",
   "execution_count": 143,
   "id": "e7a273b1",
   "metadata": {},
   "outputs": [],
   "source": [
    "batch_size = 50\n",
    "test_size = int(batch_size*0.2)"
   ]
  },
  {
   "cell_type": "code",
   "execution_count": 91,
   "id": "1ffda976",
   "metadata": {},
   "outputs": [],
   "source": [
    "# DATA SHUFFLED ALREADY"
   ]
  },
  {
   "cell_type": "code",
   "execution_count": 144,
   "id": "db02e58f",
   "metadata": {},
   "outputs": [],
   "source": [
    "cat_train = cats[:batch_size-test_size]\n",
    "cat_test = cats[batch_size-test_size:batch_size]\n",
    "con_train = conts[:batch_size-test_size]\n",
    "con_test = conts[batch_size-test_size:batch_size]"
   ]
  },
  {
   "cell_type": "code",
   "execution_count": 145,
   "id": "5363892d",
   "metadata": {},
   "outputs": [],
   "source": [
    "y_train = y[:batch_size-test_size]\n",
    "y_test = y[batch_size-test_size:batch_size]"
   ]
  },
  {
   "cell_type": "code",
   "execution_count": 146,
   "id": "00fabe52",
   "metadata": {},
   "outputs": [
    {
     "data": {
      "text/plain": [
       "torch.Size([40, 3])"
      ]
     },
     "execution_count": 146,
     "metadata": {},
     "output_type": "execute_result"
    }
   ],
   "source": [
    "cat_train.shape"
   ]
  },
  {
   "cell_type": "code",
   "execution_count": 147,
   "id": "5cf89c92",
   "metadata": {},
   "outputs": [
    {
     "data": {
      "text/plain": [
       "torch.Size([10, 3])"
      ]
     },
     "execution_count": 147,
     "metadata": {},
     "output_type": "execute_result"
    }
   ],
   "source": [
    "cat_test.shape"
   ]
  },
  {
   "cell_type": "markdown",
   "id": "1ffbd93e",
   "metadata": {},
   "source": [
    "# Time it and train model"
   ]
  },
  {
   "cell_type": "code",
   "execution_count": 148,
   "id": "f3707d81",
   "metadata": {},
   "outputs": [
    {
     "name": "stdout",
     "output_type": "stream",
     "text": [
      "epoch:   1 loss is 14.26569080\n",
      "epoch:  26 loss is 13.30034256\n",
      "epoch:  51 loss is 12.06697369\n",
      "epoch:  76 loss is 11.03807449\n",
      "epoch: 101 loss is 10.23352814\n",
      "epoch: 126 loss is 9.16174030\n",
      "epoch: 151 loss is 8.41932011\n",
      "epoch: 176 loss is 6.84906006\n",
      "epoch: 201 loss is 6.08345032\n",
      "epoch: 226 loss is 6.07492638\n",
      "epoch: 251 loss is 5.04118395\n",
      "epoch: 276 loss is 4.63776112\n",
      "epoch: 301 loss is 4.15703964\n",
      "epoch: 326 loss is 4.71261072\n",
      "epoch: 351 loss is 3.47024870\n",
      "epoch: 376 loss is 2.73752046\n",
      "epoch: 401 loss is 2.75445437\n",
      "epoch: 426 loss is 2.63172913\n",
      "epoch: 451 loss is 2.62132502\n",
      "epoch: 476 loss is 3.80090499\n",
      "epoch: 501 loss is 2.81549168\n",
      "epoch: 526 loss is 2.24365282\n",
      "epoch: 551 loss is 2.97553682\n",
      "epoch: 576 loss is 2.75672364\n",
      "epoch: 601 loss is 2.16383076\n",
      "epoch: 626 loss is 3.45274210\n",
      "epoch: 651 loss is 3.01173806\n",
      "epoch: 676 loss is 4.38880205\n",
      "epoch: 701 loss is 3.05964494\n",
      "epoch: 726 loss is 3.10162854\n",
      "epoch: 751 loss is 3.34088445\n",
      "epoch: 776 loss is 2.35490131\n",
      "epoch: 801 loss is 2.87517905\n",
      "epoch: 826 loss is 2.57533741\n",
      "epoch: 851 loss is 2.58885550\n",
      "epoch: 876 loss is 2.28103757\n",
      "epoch: 901 loss is 2.55074215\n",
      "epoch: 926 loss is 2.10658717\n",
      "epoch: 951 loss is 2.37503576\n",
      "epoch: 976 loss is 2.71975684\n",
      "\n",
      " Training took 0.08614175319671631 minutes\n",
      "\n",
      " epoch: 1000  loss: 2.41754985\n",
      "\n",
      " Duration: 5 seconds\n"
     ]
    }
   ],
   "source": [
    "import time\n",
    "start_time = time.time()\n",
    "\n",
    "epochs = 1000\n",
    "losses = []\n",
    "\n",
    "for i in range(epochs):\n",
    "    i += 1\n",
    "    y_pred = model(cat_train, con_train)\n",
    "    loss = torch.sqrt(criterion(y_pred, y_train)) #RMSE\n",
    "    losses.append(loss.item())\n",
    "    \n",
    "    if i%25 == 1:\n",
    "        print(f'epoch: {i:3} loss is {loss.item():10.8f}')\n",
    "    \n",
    "    optimizer.zero_grad()\n",
    "    loss.backward()\n",
    "    optimizer.step()\n",
    "    \n",
    "duration = time.time() - start_time\n",
    "print(f'\\n Training took {duration/60} minutes')\n",
    "print(f'\\n epoch: {i:3}  loss: {loss.item():10.8f}') # print the last line\n",
    "print(f'\\n Duration: {time.time() - start_time:.0f} seconds') # print the time elapsed"
   ]
  },
  {
   "cell_type": "code",
   "execution_count": 149,
   "id": "0f14e352",
   "metadata": {},
   "outputs": [
    {
     "data": {
      "text/plain": [
       "[<matplotlib.lines.Line2D at 0x7fe402d83110>]"
      ]
     },
     "execution_count": 149,
     "metadata": {},
     "output_type": "execute_result"
    },
    {
     "data": {
      "image/png": "[encoded data removed]",
      "text/plain": [
       "<Figure size 432x288 with 1 Axes>"
      ]
     },
     "metadata": {
      "needs_background": "light"
     },
     "output_type": "display_data"
    }
   ],
   "source": [
    "plt.plot(range(epochs), losses)"
   ]
  },
  {
   "cell_type": "code",
   "execution_count": 150,
   "id": "be6c3901",
   "metadata": {},
   "outputs": [
    {
     "data": {
      "text/plain": [
       "range(0, 1000)"
      ]
     },
     "execution_count": 150,
     "metadata": {},
     "output_type": "execute_result"
    }
   ],
   "source": [
    "range(epochs)"
   ]
  },
  {
   "cell_type": "markdown",
   "id": "c1793795",
   "metadata": {},
   "source": [
    "# Save model"
   ]
  },
  {
   "cell_type": "code",
   "execution_count": 151,
   "id": "232a116d",
   "metadata": {},
   "outputs": [],
   "source": [
    "torch.save(model.state_dict(), 'regression_model_taxi.pt')"
   ]
  },
  {
   "cell_type": "code",
   "execution_count": null,
   "id": "003415f2",
   "metadata": {},
   "outputs": [],
   "source": []
  },
  {
   "cell_type": "code",
   "execution_count": null,
   "id": "0af07b35",
   "metadata": {},
   "outputs": [],
   "source": []
  },
  {
   "cell_type": "code",
   "execution_count": null,
   "id": "d8ab5515",
   "metadata": {},
   "outputs": [],
   "source": []
  },
  {
   "cell_type": "code",
   "execution_count": null,
   "id": "317ef7e2",
   "metadata": {},
   "outputs": [],
   "source": []
  }
 ],
 "metadata": {
  "kernelspec": {
   "display_name": "Python 3 (ipykernel)",
   "language": "python",
   "name": "python3"
  },
  "language_info": {
   "codemirror_mode": {
    "name": "ipython",
    "version": 3
   },
   "file_extension": ".py",
   "mimetype": "text/x-python",
   "name": "python",
   "nbconvert_exporter": "python",
   "pygments_lexer": "ipython3",
   "version": "3.7.11"
  }
 },
 "nbformat": 4,
 "nbformat_minor": 5
}
